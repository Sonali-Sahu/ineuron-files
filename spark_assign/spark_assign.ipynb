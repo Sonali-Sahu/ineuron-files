{
 "cells": [
  {
   "cell_type": "code",
   "execution_count": 1,
   "metadata": {},
   "outputs": [],
   "source": [
    "# initiate spark session\n",
    "from pyspark.sql import SparkSession"
   ]
  },
  {
   "cell_type": "code",
   "execution_count": 2,
   "metadata": {},
   "outputs": [
    {
     "name": "stderr",
     "output_type": "stream",
     "text": [
      "Setting default log level to \"WARN\".\n",
      "To adjust logging level use sc.setLogLevel(newLevel). For SparkR, use setLogLevel(newLevel).\n",
      "23/07/23 18:28:37 WARN NativeCodeLoader: Unable to load native-hadoop library for your platform... using builtin-java classes where applicable\n"
     ]
    }
   ],
   "source": [
    "# start a session \n",
    "spark = SparkSession.builder.appName(\"Spark-Assign\").getOrCreate()"
   ]
  },
  {
   "cell_type": "code",
   "execution_count": 3,
   "metadata": {},
   "outputs": [
    {
     "data": {
      "text/html": [
       "\n",
       "            <div>\n",
       "                <p><b>SparkSession - in-memory</b></p>\n",
       "                \n",
       "        <div>\n",
       "            <p><b>SparkContext</b></p>\n",
       "\n",
       "            <p><a href=\"http://993aae3c8676:4040\">Spark UI</a></p>\n",
       "\n",
       "            <dl>\n",
       "              <dt>Version</dt>\n",
       "                <dd><code>v3.2.1</code></dd>\n",
       "              <dt>Master</dt>\n",
       "                <dd><code>local[*]</code></dd>\n",
       "              <dt>AppName</dt>\n",
       "                <dd><code>Spark-Assign</code></dd>\n",
       "            </dl>\n",
       "        </div>\n",
       "        \n",
       "            </div>\n",
       "        "
      ],
      "text/plain": [
       "<pyspark.sql.session.SparkSession at 0x7f24641df2b0>"
      ]
     },
     "execution_count": 3,
     "metadata": {},
     "output_type": "execute_result"
    }
   ],
   "source": [
    "# get spark details\n",
    "spark"
   ]
  },
  {
   "cell_type": "markdown",
   "metadata": {},
   "source": [
    "## Q1. Read the data, show it and Count the number of records."
   ]
  },
  {
   "cell_type": "code",
   "execution_count": 4,
   "metadata": {},
   "outputs": [],
   "source": [
    "case_df = spark.read.csv(\"Case.csv\",header=True,inferSchema=True)\n",
    "region_df = spark.read.csv(\"Region.csv\",header=True,inferSchema=True)\n",
    "timepro_df =spark.read.csv(\"TimeProvince.csv\",header=True,inferSchema=True)"
   ]
  },
  {
   "cell_type": "code",
   "execution_count": 5,
   "metadata": {},
   "outputs": [
    {
     "name": "stdout",
     "output_type": "stream",
     "text": [
      "root\n",
      " |--  case_id: integer (nullable = true)\n",
      " |-- province: string (nullable = true)\n",
      " |-- city: string (nullable = true)\n",
      " |-- group: boolean (nullable = true)\n",
      " |-- infection_case: string (nullable = true)\n",
      " |-- confirmed: integer (nullable = true)\n",
      " |-- latitude: string (nullable = true)\n",
      " |-- longitude: string (nullable = true)\n",
      "\n"
     ]
    }
   ],
   "source": [
    "case_df.printSchema()"
   ]
  },
  {
   "cell_type": "code",
   "execution_count": 6,
   "metadata": {},
   "outputs": [
    {
     "name": "stdout",
     "output_type": "stream",
     "text": [
      "root\n",
      " |-- code: integer (nullable = true)\n",
      " |-- province: string (nullable = true)\n",
      " |-- city: string (nullable = true)\n",
      " |-- latitude: double (nullable = true)\n",
      " |-- longitude: double (nullable = true)\n",
      " |-- elementary_school_count: integer (nullable = true)\n",
      " |-- kindergarten_count: integer (nullable = true)\n",
      " |-- university_count: integer (nullable = true)\n",
      " |-- academy_ratio: double (nullable = true)\n",
      " |-- elderly_population_ratio: double (nullable = true)\n",
      " |-- elderly_alone_ratio: double (nullable = true)\n",
      " |-- nursing_home_count: integer (nullable = true)\n",
      "\n"
     ]
    }
   ],
   "source": [
    "region_df.printSchema()"
   ]
  },
  {
   "cell_type": "code",
   "execution_count": 7,
   "metadata": {},
   "outputs": [
    {
     "name": "stdout",
     "output_type": "stream",
     "text": [
      "root\n",
      " |-- date: string (nullable = true)\n",
      " |-- time: integer (nullable = true)\n",
      " |-- province: string (nullable = true)\n",
      " |-- confirmed: integer (nullable = true)\n",
      " |-- released: integer (nullable = true)\n",
      " |-- deceased: integer (nullable = true)\n",
      "\n"
     ]
    }
   ],
   "source": [
    "timepro_df.printSchema()"
   ]
  },
  {
   "cell_type": "code",
   "execution_count": 8,
   "metadata": {},
   "outputs": [
    {
     "data": {
      "text/plain": [
       "[Row( case_id=1000001, province='Seoul', city='Yongsan-gu', group=True, infection_case='Itaewon Clubs', confirmed=139, latitude='37.538621', longitude='126.992652'),\n",
       " Row( case_id=1000002, province='Seoul', city='Gwanak-gu', group=True, infection_case='Richway', confirmed=119, latitude='37.48208', longitude='126.901384')]"
      ]
     },
     "execution_count": 8,
     "metadata": {},
     "output_type": "execute_result"
    }
   ],
   "source": [
    "case_df.head(2)"
   ]
  },
  {
   "cell_type": "code",
   "execution_count": 9,
   "metadata": {},
   "outputs": [
    {
     "data": {
      "text/plain": [
       "174"
      ]
     },
     "execution_count": 9,
     "metadata": {},
     "output_type": "execute_result"
    }
   ],
   "source": [
    "case_df.count()"
   ]
  },
  {
   "cell_type": "code",
   "execution_count": 10,
   "metadata": {},
   "outputs": [
    {
     "data": {
      "text/plain": [
       "[Row(code=10000, province='Seoul', city='Seoul', latitude=37.566953, longitude=126.977977, elementary_school_count=607, kindergarten_count=830, university_count=48, academy_ratio=1.44, elderly_population_ratio=15.38, elderly_alone_ratio=5.8, nursing_home_count=22739),\n",
       " Row(code=10010, province='Seoul', city='Gangnam-gu', latitude=37.518421, longitude=127.047222, elementary_school_count=33, kindergarten_count=38, university_count=0, academy_ratio=4.18, elderly_population_ratio=13.17, elderly_alone_ratio=4.3, nursing_home_count=3088)]"
      ]
     },
     "execution_count": 10,
     "metadata": {},
     "output_type": "execute_result"
    }
   ],
   "source": [
    "region_df.head(2)"
   ]
  },
  {
   "cell_type": "code",
   "execution_count": 11,
   "metadata": {},
   "outputs": [
    {
     "data": {
      "text/plain": [
       "244"
      ]
     },
     "execution_count": 11,
     "metadata": {},
     "output_type": "execute_result"
    }
   ],
   "source": [
    "region_df.count()"
   ]
  },
  {
   "cell_type": "code",
   "execution_count": 12,
   "metadata": {},
   "outputs": [
    {
     "data": {
      "text/plain": [
       "[Row(date='2020-01-20', time=16, province='Seoul', confirmed=0, released=0, deceased=0),\n",
       " Row(date='2020-01-20', time=16, province='Busan', confirmed=0, released=0, deceased=0)]"
      ]
     },
     "execution_count": 12,
     "metadata": {},
     "output_type": "execute_result"
    }
   ],
   "source": [
    "timepro_df.head(2)"
   ]
  },
  {
   "cell_type": "code",
   "execution_count": 13,
   "metadata": {},
   "outputs": [
    {
     "data": {
      "text/plain": [
       "2771"
      ]
     },
     "execution_count": 13,
     "metadata": {},
     "output_type": "execute_result"
    }
   ],
   "source": [
    "timepro_df.count()"
   ]
  },
  {
   "cell_type": "markdown",
   "metadata": {},
   "source": [
    "## q2. Describe the data with a describe function."
   ]
  },
  {
   "cell_type": "code",
   "execution_count": 14,
   "metadata": {},
   "outputs": [
    {
     "data": {
      "text/plain": [
       "DataFrame[summary: string,  case_id: string, province: string, city: string, infection_case: string, confirmed: string, latitude: string, longitude: string]"
      ]
     },
     "execution_count": 14,
     "metadata": {},
     "output_type": "execute_result"
    }
   ],
   "source": [
    "case_df.describe()"
   ]
  },
  {
   "cell_type": "code",
   "execution_count": 15,
   "metadata": {},
   "outputs": [
    {
     "data": {
      "text/plain": [
       "DataFrame[summary: string, code: string, province: string, city: string, latitude: string, longitude: string, elementary_school_count: string, kindergarten_count: string, university_count: string, academy_ratio: string, elderly_population_ratio: string, elderly_alone_ratio: string, nursing_home_count: string]"
      ]
     },
     "execution_count": 15,
     "metadata": {},
     "output_type": "execute_result"
    }
   ],
   "source": [
    "region_df.describe()"
   ]
  },
  {
   "cell_type": "code",
   "execution_count": 16,
   "metadata": {},
   "outputs": [
    {
     "data": {
      "text/plain": [
       "DataFrame[summary: string, date: string, time: string, province: string, confirmed: string, released: string, deceased: string]"
      ]
     },
     "execution_count": 16,
     "metadata": {},
     "output_type": "execute_result"
    }
   ],
   "source": [
    "timepro_df.describe()"
   ]
  },
  {
   "cell_type": "markdown",
   "metadata": {},
   "source": [
    "## Q3. If there is any duplicate value drop it."
   ]
  },
  {
   "cell_type": "code",
   "execution_count": 17,
   "metadata": {},
   "outputs": [],
   "source": [
    "unique_case_df = case_df.dropDuplicates()"
   ]
  },
  {
   "cell_type": "code",
   "execution_count": 18,
   "metadata": {},
   "outputs": [
    {
     "data": {
      "text/plain": [
       "174"
      ]
     },
     "execution_count": 18,
     "metadata": {},
     "output_type": "execute_result"
    }
   ],
   "source": [
    "unique_case_df.count()"
   ]
  },
  {
   "cell_type": "code",
   "execution_count": 19,
   "metadata": {},
   "outputs": [
    {
     "data": {
      "text/plain": [
       "244"
      ]
     },
     "execution_count": 19,
     "metadata": {},
     "output_type": "execute_result"
    }
   ],
   "source": [
    "unique_region_df = region_df.dropDuplicates()\n",
    "unique_region_df.count()"
   ]
  },
  {
   "cell_type": "code",
   "execution_count": 20,
   "metadata": {},
   "outputs": [
    {
     "data": {
      "text/plain": [
       "2771"
      ]
     },
     "execution_count": 20,
     "metadata": {},
     "output_type": "execute_result"
    }
   ],
   "source": [
    "unique_timepro_df = timepro_df.dropDuplicates()\n",
    "unique_timepro_df.count()"
   ]
  },
  {
   "cell_type": "markdown",
   "metadata": {},
   "source": [
    "## q4. Use limit function for showcasing a limited number of records."
   ]
  },
  {
   "cell_type": "code",
   "execution_count": 21,
   "metadata": {},
   "outputs": [
    {
     "name": "stdout",
     "output_type": "stream",
     "text": [
      "+--------+--------+------------+-----+--------------------+---------+---------+----------+\n",
      "| case_id|province|        city|group|      infection_case|confirmed| latitude| longitude|\n",
      "+--------+--------+------------+-----+--------------------+---------+---------+----------+\n",
      "| 1000001|   Seoul|  Yongsan-gu| true|       Itaewon Clubs|      139|37.538621|126.992652|\n",
      "| 1000002|   Seoul|   Gwanak-gu| true|             Richway|      119| 37.48208|126.901384|\n",
      "| 1000003|   Seoul|     Guro-gu| true| Guro-gu Call Center|       95|37.508163|126.884387|\n",
      "| 1000004|   Seoul|Yangcheon-gu| true|Yangcheon Table T...|       43|37.546061|126.874209|\n",
      "| 1000005|   Seoul|   Dobong-gu| true|     Day Care Center|       43|37.679422|127.044374|\n",
      "+--------+--------+------------+-----+--------------------+---------+---------+----------+\n",
      "\n"
     ]
    }
   ],
   "source": [
    "case_df.limit(5).show()"
   ]
  },
  {
   "cell_type": "code",
   "execution_count": 24,
   "metadata": {},
   "outputs": [
    {
     "data": {
      "text/plain": [
       "[' case_id',\n",
       " 'province',\n",
       " 'city',\n",
       " 'group',\n",
       " 'infection_case',\n",
       " 'confirmed',\n",
       " 'latitude',\n",
       " 'longitude']"
      ]
     },
     "execution_count": 24,
     "metadata": {},
     "output_type": "execute_result"
    }
   ],
   "source": [
    "case_df.columns"
   ]
  },
  {
   "cell_type": "code",
   "execution_count": 22,
   "metadata": {},
   "outputs": [
    {
     "name": "stdout",
     "output_type": "stream",
     "text": [
      "+--------+-----------+\n",
      "|province|       city|\n",
      "+--------+-----------+\n",
      "|   Seoul|      Seoul|\n",
      "|   Seoul| Gangnam-gu|\n",
      "|   Seoul|Gangdong-gu|\n",
      "|   Seoul| Gangbuk-gu|\n",
      "|   Seoul| Gangseo-gu|\n",
      "+--------+-----------+\n",
      "\n"
     ]
    }
   ],
   "source": [
    "region_df.select(\"province\",\"city\").limit(5).show()"
   ]
  },
  {
   "cell_type": "code",
   "execution_count": 23,
   "metadata": {},
   "outputs": [
    {
     "name": "stdout",
     "output_type": "stream",
     "text": [
      "+----------+----+--------+---------+--------+--------+\n",
      "|      date|time|province|confirmed|released|deceased|\n",
      "+----------+----+--------+---------+--------+--------+\n",
      "|2020-01-20|  16|   Seoul|        0|       0|       0|\n",
      "|2020-01-20|  16|   Busan|        0|       0|       0|\n",
      "|2020-01-20|  16|   Daegu|        0|       0|       0|\n",
      "|2020-01-20|  16| Incheon|        1|       0|       0|\n",
      "|2020-01-20|  16| Gwangju|        0|       0|       0|\n",
      "+----------+----+--------+---------+--------+--------+\n",
      "\n"
     ]
    }
   ],
   "source": [
    "timepro_df.limit(5).show()"
   ]
  },
  {
   "cell_type": "markdown",
   "metadata": {},
   "source": [
    "## Q5. If you find the column name is not suitable, change the\n",
    "## column name.[optional]"
   ]
  },
  {
   "cell_type": "code",
   "execution_count": 26,
   "metadata": {},
   "outputs": [
    {
     "data": {
      "text/plain": [
       "[' case_id',\n",
       " 'province',\n",
       " 'city',\n",
       " 'group',\n",
       " 'area_of_infection',\n",
       " 'confirmed',\n",
       " 'latitude',\n",
       " 'longitude']"
      ]
     },
     "execution_count": 26,
     "metadata": {},
     "output_type": "execute_result"
    }
   ],
   "source": [
    "rename_case_df = case_df.withColumnRenamed('infection_case','area_of_infection')\n",
    "rename_case_df.columns"
   ]
  },
  {
   "cell_type": "markdown",
   "metadata": {},
   "source": [
    "## q6. Select the subset of the columns."
   ]
  },
  {
   "cell_type": "code",
   "execution_count": 30,
   "metadata": {},
   "outputs": [
    {
     "name": "stdout",
     "output_type": "stream",
     "text": [
      "+--------+------------+---------+\n",
      "| case_id|        city|confirmed|\n",
      "+--------+------------+---------+\n",
      "| 1000001|  Yongsan-gu|      139|\n",
      "| 1000002|   Gwanak-gu|      119|\n",
      "| 1000003|     Guro-gu|       95|\n",
      "| 1000004|Yangcheon-gu|       43|\n",
      "| 1000005|   Dobong-gu|       43|\n",
      "+--------+------------+---------+\n",
      "\n"
     ]
    }
   ],
   "source": [
    "rename_case_df.select(\" case_id\",\"city\",\"confirmed\").limit(5).show()"
   ]
  },
  {
   "cell_type": "markdown",
   "metadata": {},
   "source": [
    "## If there is any null value, fill it with any random value or drop it."
   ]
  },
  {
   "cell_type": "code",
   "execution_count": 31,
   "metadata": {},
   "outputs": [
    {
     "data": {
      "text/plain": [
       "DataFrame[ case_id: int, province: string, city: string, group: boolean, area_of_infection: string, confirmed: int, latitude: string, longitude: string]"
      ]
     },
     "execution_count": 31,
     "metadata": {},
     "output_type": "execute_result"
    }
   ],
   "source": [
    "#to remove the rows holding null value\n",
    "rename_case_df.na.drop()"
   ]
  },
  {
   "cell_type": "code",
   "execution_count": 35,
   "metadata": {},
   "outputs": [
    {
     "name": "stdout",
     "output_type": "stream",
     "text": [
      "+--------+--------+---------------+-----+--------------------+---------+---------+----------+\n",
      "| case_id|province|           city|group|   area_of_infection|confirmed| latitude| longitude|\n",
      "+--------+--------+---------------+-----+--------------------+---------+---------+----------+\n",
      "| 1000001|   Seoul|     Yongsan-gu| true|       Itaewon Clubs|      139|37.538621|126.992652|\n",
      "| 1000002|   Seoul|      Gwanak-gu| true|             Richway|      119| 37.48208|126.901384|\n",
      "| 1000003|   Seoul|        Guro-gu| true| Guro-gu Call Center|       95|37.508163|126.884387|\n",
      "| 1000004|   Seoul|   Yangcheon-gu| true|Yangcheon Table T...|       43|37.546061|126.874209|\n",
      "| 1000005|   Seoul|      Dobong-gu| true|     Day Care Center|       43|37.679422|127.044374|\n",
      "| 1000006|   Seoul|        Guro-gu| true|Manmin Central Ch...|       41|37.481059|126.894343|\n",
      "| 1000007|   Seoul|from other city| true|SMR Newly Planted...|       36|        -|         -|\n",
      "+--------+--------+---------------+-----+--------------------+---------+---------+----------+\n",
      "\n"
     ]
    }
   ],
   "source": [
    "# fill the missing value of city \n",
    "\n",
    "filled_df = rename_case_df.na.fill(\"-1\",[\"latitude\"])\n",
    "filled_df.limit(7).show()"
   ]
  },
  {
   "cell_type": "code",
   "execution_count": 39,
   "metadata": {},
   "outputs": [
    {
     "name": "stdout",
     "output_type": "stream",
     "text": [
      "+--------------------+---------+\n",
      "|   area_of_infection|confirmed|\n",
      "+--------------------+---------+\n",
      "|       Itaewon Clubs|      139|\n",
      "|             Richway|      119|\n",
      "| Guro-gu Call Center|       95|\n",
      "|Yangcheon Table T...|       43|\n",
      "|     Day Care Center|       43|\n",
      "|Manmin Central Ch...|       41|\n",
      "|SMR Newly Planted...|       36|\n",
      "|       Dongan Church|       17|\n",
      "|Coupang Logistics...|       25|\n",
      "|     Wangsung Church|       30|\n",
      "|Eunpyeong St. Mar...|       14|\n",
      "|    Seongdong-gu APT|       13|\n",
      "|Jongno Community ...|       10|\n",
      "|   KB Life Insurance|       13|\n",
      "|     overseas inflow|      298|\n",
      "|contact with patient|      162|\n",
      "|                 etc|      100|\n",
      "+--------------------+---------+\n",
      "\n"
     ]
    }
   ],
   "source": [
    "# multiple filters\n",
    "\n",
    "filled_df.filter((filled_df[\"province\"] == \"Seoul\") &\n",
    "                 (filled_df[\"confirmed\"] >= 10)\n",
    "            ).select([\"area_of_infection\",\"confirmed\"]).show()"
   ]
  },
  {
   "cell_type": "markdown",
   "metadata": {},
   "source": [
    "## sort/order by steps in spark"
   ]
  },
  {
   "cell_type": "code",
   "execution_count": 60,
   "metadata": {},
   "outputs": [],
   "source": [
    "from pyspark.sql.functions import col,sum"
   ]
  },
  {
   "cell_type": "code",
   "execution_count": 43,
   "metadata": {},
   "outputs": [
    {
     "name": "stdout",
     "output_type": "stream",
     "text": [
      "+--------+----------+---------------+-----+--------------------+---------+---------+----------+\n",
      "| case_id|  province|           city|group|   area_of_infection|confirmed| latitude| longitude|\n",
      "+--------+----------+---------------+-----+--------------------+---------+---------+----------+\n",
      "| 1000030|     Seoul|     Gangseo-gu| true|SJ Investment Cal...|        0|37.559649|126.835102|\n",
      "| 3000007|Gangwon-do|              -|false|contact with patient|        0|        -|         -|\n",
      "| 7000002|   Jeju-do|              -|false|contact with patient|        0|        -|         -|\n",
      "| 1100007|     Busan|from other city| true|Cheongdo Daenam H...|        1|        -|         -|\n",
      "| 1000034|     Seoul|              -| true|         Orange Life|        1|        -|         -|\n",
      "+--------+----------+---------------+-----+--------------------+---------+---------+----------+\n",
      "\n"
     ]
    }
   ],
   "source": [
    "confirmed_asc_df = filled_df.sort(col(\"confirmed\").asc())\n",
    "confirmed_asc_df.limit(5).show()"
   ]
  },
  {
   "cell_type": "code",
   "execution_count": 47,
   "metadata": {},
   "outputs": [
    {
     "name": "stdout",
     "output_type": "stream",
     "text": [
      "+--------+----------------+---------------+-----+--------------------+---------+--------+---------+\n",
      "| case_id|        province|           city|group|   area_of_infection|confirmed|latitude|longitude|\n",
      "+--------+----------------+---------------+-----+--------------------+---------+--------+---------+\n",
      "| 1200001|           Daegu|         Nam-gu| true|  Shincheonji Church|     4511|35.84008| 128.5667|\n",
      "| 1200009|           Daegu|              -|false|contact with patient|      917|       -|        -|\n",
      "| 1200010|           Daegu|              -|false|                 etc|      747|       -|        -|\n",
      "| 6000001|Gyeongsangbuk-do|from other city| true|  Shincheonji Church|      566|       -|        -|\n",
      "| 2000020|     Gyeonggi-do|              -|false|     overseas inflow|      305|       -|        -|\n",
      "+--------+----------------+---------------+-----+--------------------+---------+--------+---------+\n",
      "\n"
     ]
    }
   ],
   "source": [
    "confirmed_asc_df = filled_df.sort(col(\"confirmed\").desc())\n",
    "confirmed_asc_df.limit(5).show()"
   ]
  },
  {
   "cell_type": "code",
   "execution_count": 53,
   "metadata": {},
   "outputs": [],
   "source": [
    "# Sort DataFrame by the \"age\" column, converting all values to integers\n",
    "casted_df = confirmed_asc_df.withColumn(\"latitude\", col(\"latitude\").cast(\"float\"))"
   ]
  },
  {
   "cell_type": "code",
   "execution_count": 54,
   "metadata": {},
   "outputs": [
    {
     "name": "stdout",
     "output_type": "stream",
     "text": [
      "+--------+----------------+---------------+-----+--------------------+---------+--------+---------+\n",
      "| case_id|        province|           city|group|   area_of_infection|confirmed|latitude|longitude|\n",
      "+--------+----------------+---------------+-----+--------------------+---------+--------+---------+\n",
      "| 1200001|           Daegu|         Nam-gu| true|  Shincheonji Church|     4511|35.84008| 128.5667|\n",
      "| 1200009|           Daegu|              -|false|contact with patient|      917|    null|        -|\n",
      "| 1200010|           Daegu|              -|false|                 etc|      747|    null|        -|\n",
      "| 6000001|Gyeongsangbuk-do|from other city| true|  Shincheonji Church|      566|    null|        -|\n",
      "+--------+----------------+---------------+-----+--------------------+---------+--------+---------+\n",
      "\n"
     ]
    }
   ],
   "source": [
    "casted_df.limit(4).show()"
   ]
  },
  {
   "cell_type": "code",
   "execution_count": 55,
   "metadata": {},
   "outputs": [
    {
     "data": {
      "text/plain": [
       "DataFrame[summary: string,  case_id: string, province: string, city: string, area_of_infection: string, confirmed: string, latitude: string, longitude: string]"
      ]
     },
     "execution_count": 55,
     "metadata": {},
     "output_type": "execute_result"
    }
   ],
   "source": [
    "casted_df.describe()"
   ]
  },
  {
   "cell_type": "code",
   "execution_count": 64,
   "metadata": {},
   "outputs": [
    {
     "name": "stdout",
     "output_type": "stream",
     "text": [
      "+----------------+---------------+--------------+\n",
      "|        province|           city|sum(confirmed)|\n",
      "+----------------+---------------+--------------+\n",
      "|Gyeongsangnam-do|       Jinju-si|             9|\n",
      "|           Seoul|        Guro-gu|           139|\n",
      "|           Seoul|     Gangnam-gu|            18|\n",
      "|         Daejeon|              -|           100|\n",
      "|    Jeollabuk-do|from other city|             6|\n",
      "|Gyeongsangnam-do|Changnyeong-gun|             7|\n",
      "|           Seoul|              -|           561|\n",
      "|         Jeju-do|from other city|             1|\n",
      "|Gyeongsangbuk-do|              -|           345|\n",
      "|Gyeongsangnam-do|   Geochang-gun|            18|\n",
      "|Gyeongsangbuk-do|        Gumi-si|            10|\n",
      "|         Incheon|from other city|           117|\n",
      "|           Busan|              -|            85|\n",
      "|           Daegu|         Seo-gu|           124|\n",
      "|           Busan|     Suyeong-gu|             5|\n",
      "|     Gyeonggi-do|   Uijeongbu-si|            50|\n",
      "|           Seoul|     Yongsan-gu|           139|\n",
      "|           Daegu|              -|          1705|\n",
      "|           Seoul|   Seodaemun-gu|             5|\n",
      "|     Gyeonggi-do|    Seongnam-si|            94|\n",
      "+----------------+---------------+--------------+\n",
      "only showing top 20 rows\n",
      "\n"
     ]
    }
   ],
   "source": [
    "grouped_df = casted_df.groupBy([\"province\",\"city\"]).agg(sum(\"confirmed\"))\n",
    "grouped_df.show()\n"
   ]
  },
  {
   "cell_type": "code",
   "execution_count": 74,
   "metadata": {},
   "outputs": [],
   "source": [
    "join_df = grouped_df.join(region_df, ['province','city'],how='inner')"
   ]
  },
  {
   "cell_type": "code",
   "execution_count": 75,
   "metadata": {},
   "outputs": [
    {
     "data": {
      "text/plain": [
       "DataFrame[]"
      ]
     },
     "execution_count": 75,
     "metadata": {},
     "output_type": "execute_result"
    }
   ],
   "source": [
    "join_df.select()"
   ]
  },
  {
   "cell_type": "code",
   "execution_count": null,
   "metadata": {},
   "outputs": [],
   "source": []
  }
 ],
 "metadata": {
  "kernelspec": {
   "display_name": "Python 3.8.10 64-bit",
   "language": "python",
   "name": "python3"
  },
  "language_info": {
   "codemirror_mode": {
    "name": "ipython",
    "version": 3
   },
   "file_extension": ".py",
   "mimetype": "text/x-python",
   "name": "python",
   "nbconvert_exporter": "python",
   "pygments_lexer": "ipython3",
   "version": "3.8.10"
  },
  "orig_nbformat": 4,
  "vscode": {
   "interpreter": {
    "hash": "e7370f93d1d0cde622a1f8e1c04877d8463912d04d973331ad4851f04de6915a"
   }
  }
 },
 "nbformat": 4,
 "nbformat_minor": 2
}
