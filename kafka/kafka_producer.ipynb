{
 "cells": [
  {
   "cell_type": "code",
   "execution_count": 11,
   "metadata": {},
   "outputs": [],
   "source": [
    "import time\n",
    "import pandas as pd\n",
    "from sqlalchemy import create_engine\n",
    "from kafka import KafkaProducer\n",
    "import mysql.connector as conn\n",
    "import json\n"
   ]
  },
  {
   "cell_type": "code",
   "execution_count": 4,
   "metadata": {},
   "outputs": [],
   "source": [
    "# my-sql db connection \n",
    "mydb = conn.connect(host='localhost',user='newuser',passwd='newpassword')\n",
    "cursor = mydb.cursor()"
   ]
  },
  {
   "cell_type": "code",
   "execution_count": 5,
   "metadata": {},
   "outputs": [],
   "source": [
    "# Replace 'bootstrap_servers' with your Kafka broker's address.\n",
    "producer = KafkaProducer(bootstrap_servers='localhost:9092')\n",
    "topic_name = 'my_topic-1'\n"
   ]
  },
  {
   "cell_type": "code",
   "execution_count": 8,
   "metadata": {},
   "outputs": [
    {
     "data": {
      "text/plain": [
       "[(0,\n",
       "  'Cadboury Silk',\n",
       "  datetime.date(2023, 5, 12),\n",
       "  100,\n",
       "  datetime.datetime(2023, 7, 21, 9, 12, 53),\n",
       "  datetime.datetime(2023, 7, 21, 9, 12, 53)),\n",
       " (1,\n",
       "  'Nestle Kitkat',\n",
       "  datetime.date(2023, 5, 21),\n",
       "  50,\n",
       "  datetime.datetime(2023, 7, 22, 5, 13, 14),\n",
       "  datetime.datetime(2023, 7, 22, 5, 13, 14)),\n",
       " (2,\n",
       "  'Snickers',\n",
       "  datetime.date(2023, 7, 18),\n",
       "  100,\n",
       "  datetime.datetime(2023, 7, 22, 5, 13, 14),\n",
       "  datetime.datetime(2023, 7, 22, 5, 13, 14)),\n",
       " (3,\n",
       "  'Hershey',\n",
       "  datetime.date(2023, 1, 21),\n",
       "  200,\n",
       "  datetime.datetime(2023, 7, 22, 5, 13, 14),\n",
       "  datetime.datetime(2023, 7, 22, 5, 13, 14)),\n",
       " (4,\n",
       "  'Milky Way',\n",
       "  datetime.date(2023, 9, 19),\n",
       "  120,\n",
       "  datetime.datetime(2023, 7, 22, 5, 13, 14),\n",
       "  datetime.datetime(2023, 7, 22, 5, 13, 14)),\n",
       " (5,\n",
       "  'Kinder Chocolate',\n",
       "  datetime.date(2023, 12, 6),\n",
       "  10,\n",
       "  datetime.datetime(2023, 7, 22, 5, 13, 14),\n",
       "  datetime.datetime(2023, 7, 22, 5, 13, 14))]"
      ]
     },
     "execution_count": 8,
     "metadata": {},
     "output_type": "execute_result"
    }
   ],
   "source": [
    "cursor.execute(\"show databases\")\n",
    "cursor.fetchall()\n",
    "cursor.execute(\"use quotes\")\n",
    "cursor.execute(\"SELECT * FROM kafka_sql_cassandra\")\n",
    "cursor.fetchall()"
   ]
  },
  {
   "cell_type": "code",
   "execution_count": 14,
   "metadata": {},
   "outputs": [],
   "source": [
    "import json\n",
    "import datetime\n",
    "\n",
    "json.JSONEncoder.default = lambda self,obj: (obj.isoformat() if isinstance(obj, datetime.datetime) else None)"
   ]
  },
  {
   "cell_type": "code",
   "execution_count": 18,
   "metadata": {},
   "outputs": [
    {
     "name": "stdout",
     "output_type": "stream",
     "text": [
      "[]\n",
      "[]\n",
      "[]\n",
      "[]\n"
     ]
    },
    {
     "ename": "KeyboardInterrupt",
     "evalue": "",
     "output_type": "error",
     "traceback": [
      "\u001b[1;31m---------------------------------------------------------------------------\u001b[0m",
      "\u001b[1;31mKeyboardInterrupt\u001b[0m                         Traceback (most recent call last)",
      "Cell \u001b[1;32mIn[18], line 19\u001b[0m\n\u001b[0;32m     16\u001b[0m \u001b[39mprint\u001b[39m(records)\n\u001b[0;32m     18\u001b[0m \u001b[39mif\u001b[39;00m \u001b[39mnot\u001b[39;00m records:\n\u001b[1;32m---> 19\u001b[0m     time\u001b[39m.\u001b[39;49msleep(\u001b[39m5\u001b[39;49m)  \u001b[39m# Wait for new records if none found\u001b[39;00m\n\u001b[0;32m     20\u001b[0m     \u001b[39mcontinue\u001b[39;00m\n\u001b[0;32m     22\u001b[0m \u001b[39mfor\u001b[39;00m record \u001b[39min\u001b[39;00m records:\n\u001b[0;32m     23\u001b[0m     \u001b[39m# Produce the record to the Kafka topic as a JSON string.\u001b[39;00m\n",
      "\u001b[1;31mKeyboardInterrupt\u001b[0m: "
     ]
    }
   ],
   "source": [
    "# Replace 'table_name' with the name of your MySQL table.\n",
    "table_name = 'kafka_sql_cassandra'\n",
    "\n",
    "# Replace 'incremental_column' with the name of the incremental column used to track new records.\n",
    "incremental_column = 'id'\n",
    "\n",
    "last_processed_id = -1\n",
    "\n",
    "while True:\n",
    "    cursor = mydb.cursor()\n",
    "    query = f\"SELECT * FROM {table_name} WHERE {incremental_column} = {last_processed_id}\"\n",
    "    cursor.execute(query)\n",
    "    records = cursor.fetchall()\n",
    "    cursor.close()\n",
    "\n",
    "    print(records)\n",
    "\n",
    "    if not records:\n",
    "        time.sleep(5)  # Wait for new records if none found\n",
    "        continue\n",
    "\n",
    "    for record in records:\n",
    "        # Produce the record to the Kafka topic as a JSON string.\n",
    "        producer.send(topic_name, value=json.dumps(record).encode('utf-8'))\n",
    "\n",
    "    last_processed_id = records[-1][0]  # Assuming 'id' is the first column\n",
    "    last_processed_id+= 1\n",
    "\n",
    "    # Commit the messages to the Kafka broker after producing the batch.\n",
    "    producer.flush()\n",
    "\n",
    "    if last_processed_id >5 :\n",
    "        break\n"
   ]
  },
  {
   "cell_type": "code",
   "execution_count": 19,
   "metadata": {},
   "outputs": [],
   "source": [
    "mydb.close()\n",
    "producer.close()\n"
   ]
  },
  {
   "cell_type": "code",
   "execution_count": null,
   "metadata": {},
   "outputs": [],
   "source": []
  }
 ],
 "metadata": {
  "kernelspec": {
   "display_name": "Python 3",
   "language": "python",
   "name": "python3"
  },
  "language_info": {
   "codemirror_mode": {
    "name": "ipython",
    "version": 3
   },
   "file_extension": ".py",
   "mimetype": "text/x-python",
   "name": "python",
   "nbconvert_exporter": "python",
   "pygments_lexer": "ipython3",
   "version": "3.11.4"
  },
  "orig_nbformat": 4
 },
 "nbformat": 4,
 "nbformat_minor": 2
}
