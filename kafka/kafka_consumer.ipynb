{
 "cells": [
  {
   "cell_type": "code",
   "execution_count": null,
   "metadata": {},
   "outputs": [],
   "source": [
    "!pip install confluent-kafka cassandra-driver"
   ]
  },
  {
   "cell_type": "code",
   "execution_count": 3,
   "metadata": {},
   "outputs": [
    {
     "name": "stdout",
     "output_type": "stream",
     "text": [
      "Cassandra Keyspaces:-  <cassandra.cluster.ResultSet object at 0x00000223F457D690>\n",
      "Error while consuming from topic None: KafkaError{code=INCONSISTENT_GROUP_PROTOCOL,val=23,str=\"JoinGroup failed: Broker: Inconsistent group protocol\"}\n",
      "Error while consuming from topic None: KafkaError{code=INCONSISTENT_GROUP_PROTOCOL,val=23,str=\"JoinGroup failed: Broker: Inconsistent group protocol\"}\n",
      "Error while consuming from topic None: KafkaError{code=INCONSISTENT_GROUP_PROTOCOL,val=23,str=\"JoinGroup failed: Broker: Inconsistent group protocol\"}\n",
      "Error while consuming from topic None: KafkaError{code=INCONSISTENT_GROUP_PROTOCOL,val=23,str=\"JoinGroup failed: Broker: Inconsistent group protocol\"}\n",
      "Error while consuming from topic None: KafkaError{code=INCONSISTENT_GROUP_PROTOCOL,val=23,str=\"JoinGroup failed: Broker: Inconsistent group protocol\"}\n",
      "Error while consuming from topic None: KafkaError{code=INCONSISTENT_GROUP_PROTOCOL,val=23,str=\"JoinGroup failed: Broker: Inconsistent group protocol\"}\n",
      "Error while consuming from topic None: KafkaError{code=INCONSISTENT_GROUP_PROTOCOL,val=23,str=\"JoinGroup failed: Broker: Inconsistent group protocol\"}\n",
      "Error while consuming from topic None: KafkaError{code=INCONSISTENT_GROUP_PROTOCOL,val=23,str=\"JoinGroup failed: Broker: Inconsistent group protocol\"}\n",
      "Error while consuming from topic None: KafkaError{code=INCONSISTENT_GROUP_PROTOCOL,val=23,str=\"JoinGroup failed: Broker: Inconsistent group protocol\"}\n",
      "Error while consuming from topic None: KafkaError{code=INCONSISTENT_GROUP_PROTOCOL,val=23,str=\"JoinGroup failed: Broker: Inconsistent group protocol\"}\n",
      "Error while consuming from topic None: KafkaError{code=INCONSISTENT_GROUP_PROTOCOL,val=23,str=\"JoinGroup failed: Broker: Inconsistent group protocol\"}\n",
      "Error while consuming from topic None: KafkaError{code=INCONSISTENT_GROUP_PROTOCOL,val=23,str=\"JoinGroup failed: Broker: Inconsistent group protocol\"}\n",
      "Error while consuming from topic None: KafkaError{code=INCONSISTENT_GROUP_PROTOCOL,val=23,str=\"JoinGroup failed: Broker: Inconsistent group protocol\"}\n",
      "Error while consuming from topic None: KafkaError{code=INCONSISTENT_GROUP_PROTOCOL,val=23,str=\"JoinGroup failed: Broker: Inconsistent group protocol\"}\n"
     ]
    }
   ],
   "source": [
    "from confluent_kafka import Consumer, KafkaError\n",
    "from cassandra.cluster import Cluster\n",
    "from cassandra.query import SimpleStatement\n",
    "\n",
    "# Kafka Consumer configuration\n",
    "conf = {\n",
    "    'bootstrap.servers': 'localhost:9092',  # Replace with your Kafka broker's address\n",
    "    'group.id': '_confluent-controlcenter-5-4-0-1-command',       # Consumer group ID\n",
    "    'auto.offset.reset': 'earliest'       # Start consuming from the beginning of the topic\n",
    "}\n",
    "\n",
    "# Create the Kafka Consumer\n",
    "consumer = Consumer(conf)\n",
    "\n",
    "# Subscribe to the Kafka topic\n",
    "topic = 'my_topic-1'  # Replace with the topic you want to consume from\n",
    "consumer.subscribe([topic])\n",
    "\n",
    "# Cassandra configuration\n",
    "cluster = Cluster(['localhost'])  # Replace with your Cassandra cluster's contact points\n",
    "session = cluster.connect()\n",
    "\n",
    "key = session.execute('DESCRIBE KEYSPACES')\n",
    "print(\"Cassandra Keyspaces:- \",key)\n",
    "\n",
    "session.execute('use kafkalearning')\n",
    "\n",
    "# Cassandra table schema (if not already created)\n",
    "create_table_query = '''\n",
    "    CREATE TABLE IF NOT EXISTS kafka_cassandra_table ( id int,prod_name text,expiry_date date, rate int , created_at TIMESTAMP, updated_at  TIMESTAMP, PRIMARY KEY(id) )\n",
    "'''\n",
    "session.execute(create_table_query)\n",
    "\n",
    "# Consume and process messages\n",
    "try:\n",
    "    while True:\n",
    "        msg = consumer.poll(1.0)\n",
    "\n",
    "        if msg is None:\n",
    "            continue\n",
    "        if msg.error():\n",
    "            if msg.error().code() == KafkaError._PARTITION_EOF:\n",
    "                print(f\"Reached end of partition: {msg.topic()} [{msg.partition()}]\")\n",
    "            else:\n",
    "                print(f\"Error while consuming from topic {msg.topic()}: {msg.error()}\")\n",
    "        else:\n",
    "            # Process the message and insert into Cassandra\n",
    "            id, prod_name,expiry_date,rate,created_at,updated_at = msg.value().decode('utf-8').split(':')\n",
    "            insert_query = '''\n",
    "                INSERT INTO my_cassandra_table (id, prod_name,expiry_date,rate,created_at,updated_at) VALUES (%s, %s,%s,%s,%s,%s)\n",
    "            '''\n",
    "            session.execute(insert_query, (int(id), prod_name,expiry_date,int(rate),created_at,updated_at))\n",
    "\n",
    "except KeyboardInterrupt:\n",
    "    pass\n",
    "\n",
    "finally:\n",
    "    # Close the Kafka Consumer and Cassandra session\n",
    "    consumer.close()\n",
    "    session.shutdown()\n",
    "    cluster.shutdown()\n"
   ]
  },
  {
   "cell_type": "code",
   "execution_count": null,
   "metadata": {},
   "outputs": [],
   "source": []
  }
 ],
 "metadata": {
  "kernelspec": {
   "display_name": "Python 3",
   "language": "python",
   "name": "python3"
  },
  "language_info": {
   "codemirror_mode": {
    "name": "ipython",
    "version": 3
   },
   "file_extension": ".py",
   "mimetype": "text/x-python",
   "name": "python",
   "nbconvert_exporter": "python",
   "pygments_lexer": "ipython3",
   "version": "3.11.4"
  },
  "orig_nbformat": 4
 },
 "nbformat": 4,
 "nbformat_minor": 2
}
