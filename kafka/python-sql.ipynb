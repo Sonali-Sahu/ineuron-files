{
 "cells": [
  {
   "cell_type": "code",
   "execution_count": 1,
   "metadata": {},
   "outputs": [
    {
     "name": "stdout",
     "output_type": "stream",
     "text": [
      "hello world\n"
     ]
    }
   ],
   "source": [
    "print(\"hello world\")"
   ]
  },
  {
   "cell_type": "code",
   "execution_count": 2,
   "metadata": {},
   "outputs": [
    {
     "name": "stdout",
     "output_type": "stream",
     "text": [
      "Collecting mysql-connector-python\n",
      "  Downloading mysql_connector_python-8.1.0-cp311-cp311-win_amd64.whl (10.8 MB)\n",
      "                                              0.0/10.8 MB ? eta -:--:--\n",
      "     ----                                     1.2/10.8 MB 26.4 MB/s eta 0:00:01\n",
      "     -----                                    1.4/10.8 MB 28.8 MB/s eta 0:00:01\n",
      "     -----                                    1.4/10.8 MB 28.8 MB/s eta 0:00:01\n",
      "     -----                                    1.4/10.8 MB 28.8 MB/s eta 0:00:01\n",
      "     -----                                    1.4/10.8 MB 28.8 MB/s eta 0:00:01\n",
      "     -----                                    1.5/10.8 MB 5.6 MB/s eta 0:00:02\n",
      "     -------                                  2.1/10.8 MB 6.8 MB/s eta 0:00:02\n",
      "     -----------                              3.2/10.8 MB 8.9 MB/s eta 0:00:01\n",
      "     ------------                             3.4/10.8 MB 8.4 MB/s eta 0:00:01\n",
      "     -------------                            3.7/10.8 MB 8.1 MB/s eta 0:00:01\n",
      "     --------------                           3.9/10.8 MB 7.7 MB/s eta 0:00:01\n",
      "     --------------                           4.0/10.8 MB 7.3 MB/s eta 0:00:01\n",
      "     ---------------                          4.2/10.8 MB 7.1 MB/s eta 0:00:01\n",
      "     ----------------                         4.5/10.8 MB 7.0 MB/s eta 0:00:01\n",
      "     -----------------                        4.7/10.8 MB 6.8 MB/s eta 0:00:01\n",
      "     ------------------                       5.0/10.8 MB 6.8 MB/s eta 0:00:01\n",
      "     -------------------                      5.3/10.8 MB 6.7 MB/s eta 0:00:01\n",
      "     --------------------                     5.5/10.8 MB 6.7 MB/s eta 0:00:01\n",
      "     ---------------------                    5.8/10.8 MB 6.7 MB/s eta 0:00:01\n",
      "     ----------------------                   6.2/10.8 MB 6.7 MB/s eta 0:00:01\n",
      "     -----------------------                  6.5/10.8 MB 6.7 MB/s eta 0:00:01\n",
      "     ------------------------                 6.7/10.8 MB 6.6 MB/s eta 0:00:01\n",
      "     -------------------------                7.0/10.8 MB 6.6 MB/s eta 0:00:01\n",
      "     ---------------------------              7.3/10.8 MB 6.6 MB/s eta 0:00:01\n",
      "     ----------------------------             7.6/10.8 MB 6.6 MB/s eta 0:00:01\n",
      "     -----------------------------            8.0/10.8 MB 6.6 MB/s eta 0:00:01\n",
      "     ------------------------------           8.4/10.8 MB 6.8 MB/s eta 0:00:01\n",
      "     --------------------------------         8.7/10.8 MB 6.8 MB/s eta 0:00:01\n",
      "     --------------------------------         8.9/10.8 MB 6.7 MB/s eta 0:00:01\n",
      "     ---------------------------------        9.1/10.8 MB 6.6 MB/s eta 0:00:01\n",
      "     ----------------------------------       9.2/10.8 MB 6.5 MB/s eta 0:00:01\n",
      "     ----------------------------------       9.5/10.8 MB 6.4 MB/s eta 0:00:01\n",
      "     -----------------------------------      9.7/10.8 MB 6.4 MB/s eta 0:00:01\n",
      "     ------------------------------------     10.0/10.8 MB 6.4 MB/s eta 0:00:01\n",
      "     -------------------------------------    10.3/10.8 MB 6.4 MB/s eta 0:00:01\n",
      "     ---------------------------------------  10.6/10.8 MB 6.2 MB/s eta 0:00:01\n",
      "     ---------------------------------------  10.8/10.8 MB 6.1 MB/s eta 0:00:01\n",
      "     ---------------------------------------- 10.8/10.8 MB 6.0 MB/s eta 0:00:00\n",
      "Collecting protobuf<=4.21.12,>=4.21.1 (from mysql-connector-python)\n",
      "  Downloading protobuf-4.21.12-cp310-abi3-win_amd64.whl (527 kB)\n",
      "                                              0.0/527.0 kB ? eta -:--:--\n",
      "     -------------------------              348.2/527.0 kB 7.3 MB/s eta 0:00:01\n",
      "     -------------------------------------- 527.0/527.0 kB 8.3 MB/s eta 0:00:00\n",
      "Installing collected packages: protobuf, mysql-connector-python\n",
      "Successfully installed mysql-connector-python-8.1.0 protobuf-4.21.12\n"
     ]
    },
    {
     "name": "stderr",
     "output_type": "stream",
     "text": [
      "\n",
      "[notice] A new release of pip is available: 23.1.2 -> 23.2\n",
      "[notice] To update, run: python.exe -m pip install --upgrade pip\n"
     ]
    }
   ],
   "source": [
    "!pip install mysql-connector-python"
   ]
  },
  {
   "cell_type": "code",
   "execution_count": 3,
   "metadata": {},
   "outputs": [],
   "source": [
    "import mysql.connector as conn"
   ]
  },
  {
   "cell_type": "code",
   "execution_count": 5,
   "metadata": {},
   "outputs": [],
   "source": [
    "mydb = conn.connect(host='localhost',user='newuser',passwd='newpassword')"
   ]
  },
  {
   "cell_type": "code",
   "execution_count": 6,
   "metadata": {},
   "outputs": [],
   "source": [
    "cursor = mydb.cursor()"
   ]
  },
  {
   "cell_type": "code",
   "execution_count": 7,
   "metadata": {},
   "outputs": [],
   "source": [
    "cursor.execute(\"show databases\")"
   ]
  },
  {
   "cell_type": "code",
   "execution_count": 8,
   "metadata": {},
   "outputs": [
    {
     "data": {
      "text/plain": [
       "[('information_schema',), ('performance_schema',), ('quotes',)]"
      ]
     },
     "execution_count": 8,
     "metadata": {},
     "output_type": "execute_result"
    }
   ],
   "source": [
    "cursor.fetchall()"
   ]
  },
  {
   "cell_type": "code",
   "execution_count": 9,
   "metadata": {},
   "outputs": [],
   "source": [
    "cursor.execute(\"use quotes\")"
   ]
  },
  {
   "cell_type": "code",
   "execution_count": 10,
   "metadata": {},
   "outputs": [],
   "source": [
    "cursor.execute(\"SELECT * FROM kafka_sql_cassandra\")"
   ]
  },
  {
   "cell_type": "code",
   "execution_count": 11,
   "metadata": {},
   "outputs": [
    {
     "data": {
      "text/plain": [
       "[(0,\n",
       "  'Cadboury Silk',\n",
       "  datetime.date(2023, 5, 12),\n",
       "  100,\n",
       "  datetime.datetime(2023, 7, 21, 9, 12, 53),\n",
       "  datetime.datetime(2023, 7, 21, 9, 12, 53))]"
      ]
     },
     "execution_count": 11,
     "metadata": {},
     "output_type": "execute_result"
    }
   ],
   "source": [
    "cursor.fetchall()"
   ]
  },
  {
   "cell_type": "code",
   "execution_count": 12,
   "metadata": {},
   "outputs": [],
   "source": [
    "data_list = [\n",
    "   {'id':1,\"prod_name\": \"Nestle Kitkat\",\"expiry_date\":\"2023-05-21\",\"rate\":50},\n",
    "   {'id':2,\"prod_name\": \"Snickers\",\"expiry_date\":\"2023-07-18\",\"rate\":100},\n",
    "   {'id':3,\"prod_name\": \"Hershey\",\"expiry_date\":\"2023-01-21\",\"rate\":200},\n",
    "   {'id':4,\"prod_name\": \"Milky Way\",\"expiry_date\":\"2023-09-19\",\"rate\":120},\n",
    "   {'id':5,\"prod_name\": \"Kinder Chocolate\",\"expiry_date\":\"2023-12-06\",\"rate\":10},\n",
    "]"
   ]
  },
  {
   "cell_type": "code",
   "execution_count": null,
   "metadata": {},
   "outputs": [],
   "source": [
    "for data in data_list:\n",
    "    cursor.execute(f\"INSERT INTO kafka_sql_cassandra (ID,prod_name,expiry_date, rate) VALUES ({data['id']},'{data['prod_name']}','{data['expiry_date']}',{data['rate']});\")\n",
    "      \n",
    "      "
   ]
  },
  {
   "cell_type": "code",
   "execution_count": 15,
   "metadata": {},
   "outputs": [],
   "source": [
    "cursor.execute(\"commit\")"
   ]
  },
  {
   "cell_type": "code",
   "execution_count": 16,
   "metadata": {},
   "outputs": [
    {
     "data": {
      "text/plain": [
       "[(0,\n",
       "  'Cadboury Silk',\n",
       "  datetime.date(2023, 5, 12),\n",
       "  100,\n",
       "  datetime.datetime(2023, 7, 21, 9, 12, 53),\n",
       "  datetime.datetime(2023, 7, 21, 9, 12, 53)),\n",
       " (1,\n",
       "  'Nestle Kitkat',\n",
       "  datetime.date(2023, 5, 21),\n",
       "  50,\n",
       "  datetime.datetime(2023, 7, 22, 5, 13, 14),\n",
       "  datetime.datetime(2023, 7, 22, 5, 13, 14)),\n",
       " (2,\n",
       "  'Snickers',\n",
       "  datetime.date(2023, 7, 18),\n",
       "  100,\n",
       "  datetime.datetime(2023, 7, 22, 5, 13, 14),\n",
       "  datetime.datetime(2023, 7, 22, 5, 13, 14)),\n",
       " (3,\n",
       "  'Hershey',\n",
       "  datetime.date(2023, 1, 21),\n",
       "  200,\n",
       "  datetime.datetime(2023, 7, 22, 5, 13, 14),\n",
       "  datetime.datetime(2023, 7, 22, 5, 13, 14)),\n",
       " (4,\n",
       "  'Milky Way',\n",
       "  datetime.date(2023, 9, 19),\n",
       "  120,\n",
       "  datetime.datetime(2023, 7, 22, 5, 13, 14),\n",
       "  datetime.datetime(2023, 7, 22, 5, 13, 14)),\n",
       " (5,\n",
       "  'Kinder Chocolate',\n",
       "  datetime.date(2023, 12, 6),\n",
       "  10,\n",
       "  datetime.datetime(2023, 7, 22, 5, 13, 14),\n",
       "  datetime.datetime(2023, 7, 22, 5, 13, 14))]"
      ]
     },
     "execution_count": 16,
     "metadata": {},
     "output_type": "execute_result"
    }
   ],
   "source": [
    "cursor.execute(\"SELECT * FROM kafka_sql_cassandra\")\n",
    "cursor.fetchall()"
   ]
  },
  {
   "cell_type": "code",
   "execution_count": null,
   "metadata": {},
   "outputs": [],
   "source": []
  }
 ],
 "metadata": {
  "kernelspec": {
   "display_name": "Python 3",
   "language": "python",
   "name": "python3"
  },
  "language_info": {
   "codemirror_mode": {
    "name": "ipython",
    "version": 3
   },
   "file_extension": ".py",
   "mimetype": "text/x-python",
   "name": "python",
   "nbconvert_exporter": "python",
   "pygments_lexer": "ipython3",
   "version": "3.11.4"
  },
  "orig_nbformat": 4
 },
 "nbformat": 4,
 "nbformat_minor": 2
}
